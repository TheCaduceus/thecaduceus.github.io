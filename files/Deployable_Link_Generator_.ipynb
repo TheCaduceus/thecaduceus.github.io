{
  "nbformat": 4,
  "nbformat_minor": 0,
  "metadata": {
    "colab": {
      "name": "Deployable Link Generator .ipynb",
      "provenance": [],
      "authorship_tag": "ABX9TyNXA8EjaQ3noxSU7JSIabfj",
      "include_colab_link": true
    },
    "kernelspec": {
      "name": "python3",
      "display_name": "Python 3"
    },
    "language_info": {
      "name": "python"
    }
  },
  "cells": [
    {
      "cell_type": "markdown",
      "metadata": {
        "id": "view-in-github",
        "colab_type": "text"
      },
      "source": [
        "<a href=\"https://colab.research.google.com/github/TheCaduceus/thecaduceus.github.io/blob/main/files/Deployable_Link_Generator_.ipynb\" target=\"_parent\"><img src=\"https://colab.research.google.com/assets/colab-badge.svg\" alt=\"Open In Colab\"/></a>"
      ]
    },
    {
      "cell_type": "code",
      "execution_count": null,
      "metadata": {
        "cellView": "form",
        "id": "zyG3dGZfLoXw"
      },
      "outputs": [],
      "source": [
        "#@markdown <br><center><img src='https://hatinco.com/images/appdevelopmentimages/09.png' height=\"100\" alt=\"Deploy-iCON\"/></center>\n",
        "# User Input\n",
        "Repository_Link = \"\" #@param {type:\"string\"}\n",
        "# Merge\n",
        "Heroku_Link = \"https://www.heroku.com/deploy?template=\" + Repository_Link\n",
        "Railway_Link = \"https://www.railway.app/new/template?template=\" + Repository_Link\n",
        "# Output\n",
        "print(\"Use Below Link to Deploy on Heroku:\")\n",
        "print(Heroku_Link)\n",
        "print(\"Use Below Link to Deploy on Railway App:\")\n",
        "print(Railway_Link)"
      ]
    }
  ]
}