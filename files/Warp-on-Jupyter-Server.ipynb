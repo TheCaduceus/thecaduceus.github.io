{
  "nbformat": 4,
  "nbformat_minor": 0,
  "metadata": {
    "colab": {
      "name": "Warp-on-Jupyter-Server.ipynb",
      "provenance": []
    },
    "kernelspec": {
      "name": "python3",
      "display_name": "Python 3"
    },
    "language_info": {
      "name": "python"
    }
  },
  "cells": [
    {
      "cell_type": "markdown",
      "source": [
        "**Run the Following Code and enter your WRAP ID:**"
      ],
      "metadata": {
        "id": "MIem627NYSoe"
      }
    },
    {
      "cell_type": "code",
      "execution_count": null,
      "metadata": {
        "id": "u-iCa939Vv5C"
      },
      "outputs": [],
      "source": [
        "import urllib.request\n",
        "import json\n",
        "import datetime\n",
        "import random\n",
        "import string\n",
        "import time\n",
        "import os\n",
        "import sys\n",
        "os.system(\"To Get your Wrap ID Go to Settings > Advanced > Diagnostics and copy the ID under CLIENT CONFIGURATION section\")\n",
        "\n",
        "referrer = input(\"[#] Enter the WARP/WARP+ ID: \")\n",
        "def genString(stringLength):\n",
        "\ttry:\n",
        "\t\tletters = string.ascii_letters + string.digits\n",
        "\t\treturn ''.join(random.choice(letters) for i in range(stringLength))\n",
        "\texcept Exception as error:\n",
        "\t\tprint(error)\n",
        "def digitString(stringLength):\n",
        "\ttry:\n",
        "\t\tdigit = string.digits\n",
        "\t\treturn ''.join((random.choice(digit) for i in range(stringLength)))\n",
        "\texcept Exception as error:\n",
        "\t\tprint(error)\n",
        "url = f'https://api.cloudflareclient.com/v0a{digitString(3)}/reg'\n",
        "def run():\n",
        "\ttry:\n",
        "\t\tinstall_id = genString(22)\n",
        "\t\tbody = {\"key\": \"{}=\".format(genString(43)),\n",
        "\t\t\t\t\"install_id\": install_id,\n",
        "\t\t\t\t\"fcm_token\": \"{}:APA91b{}\".format(install_id, genString(134)),\n",
        "\t\t\t\t\"referrer\": referrer,\n",
        "\t\t\t\t\"warp_enabled\": False,\n",
        "\t\t\t\t\"tos\": datetime.datetime.now().isoformat()[:-3] + \"+02:00\",\n",
        "\t\t\t\t\"type\": \"Android\",\n",
        "\t\t\t\t\"locale\": \"es_ES\"}\n",
        "\t\tdata = json.dumps(body).encode('utf8')\n",
        "\t\theaders = {'Content-Type': 'application/json; charset=UTF-8',\n",
        "\t\t\t\t\t'Host': 'api.cloudflareclient.com',\n",
        "\t\t\t\t\t'Connection': 'Keep-Alive',\n",
        "\t\t\t\t\t'Accept-Encoding': 'gzip',\n",
        "\t\t\t\t\t'User-Agent': 'okhttp/3.12.1'\n",
        "\t\t\t\t\t}\n",
        "\t\treq         = urllib.request.Request(url, data, headers)\n",
        "\t\tresponse    = urllib.request.urlopen(req)\n",
        "\t\tstatus_code = response.getcode()\n",
        "\t\treturn status_code\n",
        "\texcept Exception as error:\n",
        "\t\tprint(\"\")\n",
        "\t\tprint(\"[×] Error:\", error)\n",
        "\n",
        "g = 0\n",
        "b = 0\n",
        "while True:\n",
        "\tos.system('cls' if os.name == 'nt' else 'clear')\n",
        "\tanimation = [\"[■□□□□□□□□□] 10%\",\"[■■□□□□□□□□] 20%\", \"[■■■□□□□□□□] 30%\", \"[■■■■□□□□□□] 40%\", \"[■■■■■□□□□□] 50%\", \"[■■■■■■□□□□] 60%\", \"[■■■■■■■□□□] 70%\", \"[■■■■■■■■□□] 80%\", \"[■■■■■■■■■□] 90%\", \"[■■■■■■■■■■] 100%\"] \n",
        "\tfor i in range(len(animation)):\n",
        "\t\ttime.sleep(0.2)\n",
        "\t\tsys.stdout.write(\"\\r[∆] Progress: \" + animation[i % len(animation)])\n",
        "\t\tsys.stdout.flush()\n",
        "\tresult = run()\n",
        "\tif result == 200:\n",
        "\t\tg += 1\n",
        "\t\tprint(f\"\\n[•] WARP+ ID: {referrer}\")\n",
        "\t\tprint(f\"[✓] Added: {g} GB\")\n",
        "\t\tprint(f\"[#] Total: {g} Good {b} Bad\")\n",
        "\t\tfor i in range(10,-1,-1):\n",
        "\t\t\tsys.stdout.write(f\"\\033[1K\\r[!] Cooldown: {i} seconds\")\n",
        "\t\t\tsys.stdout.flush()\n",
        "\t\t\ttime.sleep(1)\n",
        "\telse:\n",
        "\t\tb += 1\n",
        "\t\tprint(f\"[#] Total: {g} Good {b} Bad\")\n",
        "\t\tfor i in range(10,-1,-1):\n",
        "\t\t\tsys.stdout.write(f\"\\033[1K\\r[!] Cooldown: {i} seconds\")\n",
        "\t\t\tsys.stdout.flush()\n",
        "\t\t\ttime.sleep(1)"
      ]
    },
    {
      "cell_type": "markdown",
      "source": [
        "**TO GET WRAP ID: Open Wrap app (or 1.1.1.1) then Go to Settings > Advanced > Diagnostics and copy the ID under CLIENT CONFIGURATION section**"
      ],
      "metadata": {
        "id": "OkDVckQMYkw2"
      }
    }
  ]
}
